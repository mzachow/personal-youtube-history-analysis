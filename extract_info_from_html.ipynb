{
 "cells": [
  {
   "cell_type": "code",
   "execution_count": 3,
   "metadata": {},
   "outputs": [],
   "source": [
    "import pandas as pd\n",
    "import numpy as np\n",
    "import datetime\n",
    "from bs4 import BeautifulSoup\n",
    "from datetime import timedelta\n",
    "from urllib.parse import urlparse\n",
    "\n",
    "import warnings\n",
    "warnings.filterwarnings('ignore')\n",
    "\n",
    "fullpath = 'PATH/TO/YOUR/GOOGLEDATA/Wiedergabeverlauf.html'\n",
    "soup = BeautifulSoup(open(fullpath), 'html.parser')\n",
    "td = pd.Timedelta(6, unit='h')"
   ]
  },
  {
   "cell_type": "markdown",
   "metadata": {},
   "source": [
    "### 1. Youtube Clicks"
   ]
  },
  {
   "cell_type": "markdown",
   "metadata": {
    "code_folding": []
   },
   "source": [
    "#### Store video data blocks in list video_containers"
   ]
  },
  {
   "cell_type": "code",
   "execution_count": 21,
   "metadata": {},
   "outputs": [],
   "source": [
    "video_containers = soup.find_all(\"div\", {\"class\": \"content-cell mdl-cell mdl-cell--6-col mdl-typography--body-1\"})"
   ]
  },
  {
   "cell_type": "markdown",
   "metadata": {},
   "source": [
    "Exemplary element of that list"
   ]
  },
  {
   "cell_type": "code",
   "execution_count": 22,
   "metadata": {},
   "outputs": [
    {
     "data": {
      "text/plain": [
       "<div class=\"content-cell mdl-cell mdl-cell--6-col mdl-typography--body-1\"><a href=\"https://www.youtube.com/watch?v=Kzdc_mbHJQQ\">Improve Your Manual Skills | MTB Coaching With Neil</a> angesehen<br/><a href=\"https://www.youtube.com/channel/UC_A--fhX5gea0i4UtpD99Gg\">Global Mountain Bike Network</a><br/>08.04.2020, 17:45:36 MESZ</div>"
      ]
     },
     "execution_count": 22,
     "metadata": {},
     "output_type": "execute_result"
    }
   ],
   "source": [
    "video_containers[0]"
   ]
  },
  {
   "cell_type": "markdown",
   "metadata": {},
   "source": [
    "We can now obtain all the information separately "
   ]
  },
  {
   "cell_type": "code",
   "execution_count": 23,
   "metadata": {},
   "outputs": [],
   "source": [
    "# Lists to store the scraped data in\n",
    "info = []\n",
    "links = []\n",
    "\n",
    "# Extract data from individual video container\n",
    "for container in video_containers:\n",
    "    # The name\n",
    "    name = container.text\n",
    "    info.append(name)\n",
    "    \n",
    "    if container.find('a') is not None:\n",
    "        url = container.a.get('href')\n",
    "    else:\n",
    "        url = \"\"\n",
    "    links.append(url)"
   ]
  },
  {
   "cell_type": "code",
   "execution_count": 24,
   "metadata": {},
   "outputs": [],
   "source": [
    "df = pd.DataFrame({'text': info,\n",
    "'Video_URL': links\n",
    "})"
   ]
  },
  {
   "cell_type": "markdown",
   "metadata": {},
   "source": [
    "A quick look on how our dataframe looks like right now reveals that we need to extract more info from the text column, which holds the TITLE, the CHANNEL and the DATE. Video_URL is already how it is supposed to be."
   ]
  },
  {
   "cell_type": "code",
   "execution_count": 25,
   "metadata": {},
   "outputs": [
    {
     "data": {
      "text/html": [
       "<div>\n",
       "<style scoped>\n",
       "    .dataframe tbody tr th:only-of-type {\n",
       "        vertical-align: middle;\n",
       "    }\n",
       "\n",
       "    .dataframe tbody tr th {\n",
       "        vertical-align: top;\n",
       "    }\n",
       "\n",
       "    .dataframe thead th {\n",
       "        text-align: right;\n",
       "    }\n",
       "</style>\n",
       "<table border=\"1\" class=\"dataframe\">\n",
       "  <thead>\n",
       "    <tr style=\"text-align: right;\">\n",
       "      <th></th>\n",
       "      <th>text</th>\n",
       "      <th>Video_URL</th>\n",
       "    </tr>\n",
       "  </thead>\n",
       "  <tbody>\n",
       "    <tr>\n",
       "      <td>0</td>\n",
       "      <td>Improve Your Manual Skills | MTB Coaching With...</td>\n",
       "      <td>https://www.youtube.com/watch?v=Kzdc_mbHJQQ</td>\n",
       "    </tr>\n",
       "    <tr>\n",
       "      <td>1</td>\n",
       "      <td>Bunny Hop MTB Fahrtechnik Tutorial | Step by s...</td>\n",
       "      <td>https://www.youtube.com/watch?v=pDwqQKKXkQo</td>\n",
       "    </tr>\n",
       "    <tr>\n",
       "      <td>2</td>\n",
       "      <td>Hardcore Hardtail Mtb Abenteuer/ Tour durch de...</td>\n",
       "      <td>https://www.youtube.com/watch?v=frGH0jGbsd4</td>\n",
       "    </tr>\n",
       "    <tr>\n",
       "      <td>3</td>\n",
       "      <td>FAZIT Tubeless: 4 Monate ohne Schlauch im Moun...</td>\n",
       "      <td>https://www.youtube.com/watch?v=V4IaboqyB2s</td>\n",
       "    </tr>\n",
       "    <tr>\n",
       "      <td>4</td>\n",
       "      <td>How To Avoid Punctures On Your Mountain Bike a...</td>\n",
       "      <td>https://www.youtube.com/watch?v=duS4GUuMhR0</td>\n",
       "    </tr>\n",
       "  </tbody>\n",
       "</table>\n",
       "</div>"
      ],
      "text/plain": [
       "                                                text  \\\n",
       "0  Improve Your Manual Skills | MTB Coaching With...   \n",
       "1  Bunny Hop MTB Fahrtechnik Tutorial | Step by s...   \n",
       "2  Hardcore Hardtail Mtb Abenteuer/ Tour durch de...   \n",
       "3  FAZIT Tubeless: 4 Monate ohne Schlauch im Moun...   \n",
       "4  How To Avoid Punctures On Your Mountain Bike a...   \n",
       "\n",
       "                                     Video_URL  \n",
       "0  https://www.youtube.com/watch?v=Kzdc_mbHJQQ  \n",
       "1  https://www.youtube.com/watch?v=pDwqQKKXkQo  \n",
       "2  https://www.youtube.com/watch?v=frGH0jGbsd4  \n",
       "3  https://www.youtube.com/watch?v=V4IaboqyB2s  \n",
       "4  https://www.youtube.com/watch?v=duS4GUuMhR0  "
      ]
     },
     "execution_count": 25,
     "metadata": {},
     "output_type": "execute_result"
    }
   ],
   "source": [
    "df.head()"
   ]
  },
  {
   "cell_type": "markdown",
   "metadata": {},
   "source": [
    "#### Text column split to extract Channel, Date und Titel"
   ]
  },
  {
   "cell_type": "code",
   "execution_count": 26,
   "metadata": {},
   "outputs": [],
   "source": [
    "# Edits on Text column to extract CHANNEL, DATE and TITLE\n",
    "df[\"Video_Title\"] = df[\"text\"].str.split(\"angesehen\", n = 1, expand = True)[0]\n",
    "df[\"Channel_Date\"] = df[\"text\"].str.split(\"angesehen\", n = 1, expand = True)[1]\n",
    "\n",
    "df[\"Channel_Day\"] = df[\"Channel_Date\"].str.split(\", \", n=1, expand=True)[0]\n",
    "df[\"Hour\"] = df[\"Channel_Date\"].str.split(\", \", n=1, expand=True)[1]\n",
    "\n",
    "df[\"Video_Channel\"] = df[\"Channel_Day\"].str[:-10]\n",
    "df[\"Day\"] = df[\"Channel_Day\"].str[-10:]\n",
    "df[\"Clicked_Date\"] = df[\"Day\"] + \" \" + df[\"Hour\"]"
   ]
  },
  {
   "cell_type": "markdown",
   "metadata": {},
   "source": [
    "Now we drop all the columns that we only needed for temporary variable storage and reorder the columns:"
   ]
  },
  {
   "cell_type": "code",
   "execution_count": 27,
   "metadata": {},
   "outputs": [],
   "source": [
    "df = df.drop(axis=1, columns={\"Hour\", \"Channel_Day\", \"text\", \"Channel_Date\", \"Day\"})\n",
    "df = df[[\"Video_Title\", \"Video_URL\", \"Video_Channel\", \"Clicked_Date\"]]"
   ]
  },
  {
   "cell_type": "markdown",
   "metadata": {},
   "source": [
    "#### Result"
   ]
  },
  {
   "cell_type": "code",
   "execution_count": 28,
   "metadata": {},
   "outputs": [
    {
     "data": {
      "text/html": [
       "<div>\n",
       "<style scoped>\n",
       "    .dataframe tbody tr th:only-of-type {\n",
       "        vertical-align: middle;\n",
       "    }\n",
       "\n",
       "    .dataframe tbody tr th {\n",
       "        vertical-align: top;\n",
       "    }\n",
       "\n",
       "    .dataframe thead th {\n",
       "        text-align: right;\n",
       "    }\n",
       "</style>\n",
       "<table border=\"1\" class=\"dataframe\">\n",
       "  <thead>\n",
       "    <tr style=\"text-align: right;\">\n",
       "      <th></th>\n",
       "      <th>Video_Title</th>\n",
       "      <th>Video_URL</th>\n",
       "      <th>Video_Channel</th>\n",
       "      <th>Clicked_Date</th>\n",
       "    </tr>\n",
       "  </thead>\n",
       "  <tbody>\n",
       "    <tr>\n",
       "      <td>0</td>\n",
       "      <td>Improve Your Manual Skills | MTB Coaching With...</td>\n",
       "      <td>https://www.youtube.com/watch?v=Kzdc_mbHJQQ</td>\n",
       "      <td>Global Mountain Bike Network</td>\n",
       "      <td>08.04.2020 17:45:36 MESZ</td>\n",
       "    </tr>\n",
       "    <tr>\n",
       "      <td>1</td>\n",
       "      <td>Bunny Hop MTB Fahrtechnik Tutorial | Step by s...</td>\n",
       "      <td>https://www.youtube.com/watch?v=pDwqQKKXkQo</td>\n",
       "      <td>Leo Kast</td>\n",
       "      <td>08.04.2020 16:59:30 MESZ</td>\n",
       "    </tr>\n",
       "    <tr>\n",
       "      <td>2</td>\n",
       "      <td>Hardcore Hardtail Mtb Abenteuer/ Tour durch de...</td>\n",
       "      <td>https://www.youtube.com/watch?v=frGH0jGbsd4</td>\n",
       "      <td>Ride it Official</td>\n",
       "      <td>08.04.2020 16:57:54 MESZ</td>\n",
       "    </tr>\n",
       "    <tr>\n",
       "      <td>3</td>\n",
       "      <td>FAZIT Tubeless: 4 Monate ohne Schlauch im Moun...</td>\n",
       "      <td>https://www.youtube.com/watch?v=V4IaboqyB2s</td>\n",
       "      <td>Fabio Schäfer</td>\n",
       "      <td>08.04.2020 16:54:48 MESZ</td>\n",
       "    </tr>\n",
       "    <tr>\n",
       "      <td>4</td>\n",
       "      <td>How To Avoid Punctures On Your Mountain Bike</td>\n",
       "      <td>https://www.youtube.com/watch?v=duS4GUuMhR0</td>\n",
       "      <td>Global Mountain Bike Network</td>\n",
       "      <td>08.04.2020 16:48:03 MESZ</td>\n",
       "    </tr>\n",
       "  </tbody>\n",
       "</table>\n",
       "</div>"
      ],
      "text/plain": [
       "                                         Video_Title  \\\n",
       "0  Improve Your Manual Skills | MTB Coaching With...   \n",
       "1  Bunny Hop MTB Fahrtechnik Tutorial | Step by s...   \n",
       "2  Hardcore Hardtail Mtb Abenteuer/ Tour durch de...   \n",
       "3  FAZIT Tubeless: 4 Monate ohne Schlauch im Moun...   \n",
       "4      How To Avoid Punctures On Your Mountain Bike    \n",
       "\n",
       "                                     Video_URL                 Video_Channel  \\\n",
       "0  https://www.youtube.com/watch?v=Kzdc_mbHJQQ  Global Mountain Bike Network   \n",
       "1  https://www.youtube.com/watch?v=pDwqQKKXkQo                      Leo Kast   \n",
       "2  https://www.youtube.com/watch?v=frGH0jGbsd4              Ride it Official   \n",
       "3  https://www.youtube.com/watch?v=V4IaboqyB2s                 Fabio Schäfer   \n",
       "4  https://www.youtube.com/watch?v=duS4GUuMhR0  Global Mountain Bike Network   \n",
       "\n",
       "               Clicked_Date  \n",
       "0  08.04.2020 17:45:36 MESZ  \n",
       "1  08.04.2020 16:59:30 MESZ  \n",
       "2  08.04.2020 16:57:54 MESZ  \n",
       "3  08.04.2020 16:54:48 MESZ  \n",
       "4  08.04.2020 16:48:03 MESZ  "
      ]
     },
     "execution_count": 28,
     "metadata": {},
     "output_type": "execute_result"
    }
   ],
   "source": [
    "df.head(5)"
   ]
  },
  {
   "cell_type": "markdown",
   "metadata": {},
   "source": [
    "Some videos have been deleted over the years. We can remove these rows by searching for the String \"Ein Video\" from the sentence \"Ein Video, das entfernt wurde.\". Also, deleted videos might have an empty value for Channel."
   ]
  },
  {
   "cell_type": "code",
   "execution_count": 29,
   "metadata": {},
   "outputs": [],
   "source": [
    "df = df[(df.Video_Title.str.contains(\"Ein Video\") == False) & (df.Video_Channel != \"\")]"
   ]
  },
  {
   "cell_type": "markdown",
   "metadata": {},
   "source": [
    "#### Extracting video id from URL\n",
    "We do that so that we can call the youtube API later"
   ]
  },
  {
   "cell_type": "code",
   "execution_count": 30,
   "metadata": {},
   "outputs": [],
   "source": [
    "def video_id(url):\n",
    "    \"\"\"\n",
    "    Examples:\n",
    "    - http://youtu.be/SA2iWivDJiE\n",
    "    - http://www.youtube.com/watch?v=_oPAwA_Udwc&feature=feedu\n",
    "    - http://www.youtube.com/embed/SA2iWivDJiE\n",
    "    - http://www.youtube.com/v/SA2iWivDJiE?version=3&amp;hl=en_US\n",
    "    \"\"\"\n",
    "    o = urlparse(url)\n",
    "    if o.netloc == 'youtu.be':\n",
    "        return o.path[1:]\n",
    "    elif o.netloc in ('www.youtube.com', 'youtube.com'):\n",
    "        if o.path == '/watch':\n",
    "            id_index = o.query.index('v=')\n",
    "            return o.query[id_index+2:id_index+13]\n",
    "        elif o.path[:7] == '/embed/':\n",
    "            return o.path.split('/')[2]\n",
    "        elif o.path[:3] == '/v/':\n",
    "            return o.path.split('/')[2]\n",
    "    return None  # fail?"
   ]
  },
  {
   "cell_type": "code",
   "execution_count": 31,
   "metadata": {},
   "outputs": [],
   "source": [
    "df[\"Video_ID\"] = df[\"Video_URL\"].apply(lambda x: video_id(x))"
   ]
  },
  {
   "cell_type": "markdown",
   "metadata": {},
   "source": [
    "#### Formatting the Date"
   ]
  },
  {
   "cell_type": "markdown",
   "metadata": {},
   "source": [
    "This is especially important to convert the timestamps from when I was in Canada"
   ]
  },
  {
   "cell_type": "code",
   "execution_count": 32,
   "metadata": {},
   "outputs": [],
   "source": [
    "df[\"Clicked_Date\"] = pd.to_datetime(df[\"Clicked_Date\"].str[:-5], format='%d.%m.%Y %H:%M:%S', errors=\"coerce\")"
   ]
  },
  {
   "cell_type": "code",
   "execution_count": 33,
   "metadata": {},
   "outputs": [],
   "source": [
    "df[\"Year\"] = pd.DatetimeIndex(df[\"Clicked_Date\"]).year\n",
    "df[\"Month\"] = pd.DatetimeIndex(df[\"Clicked_Date\"]).month\n",
    "df[\"Day of Week\"] = df[\"Clicked_Date\"].dt.day_name()"
   ]
  },
  {
   "cell_type": "markdown",
   "metadata": {},
   "source": [
    "Canadian time is 6 hours behind European Time"
   ]
  },
  {
   "cell_type": "code",
   "execution_count": 34,
   "metadata": {},
   "outputs": [],
   "source": [
    "df_canada = df[(df[\"Clicked_Date\"] > pd.to_datetime(\"28.08.2016\", format=\"%d.%m.%Y\"))\n",
    "  & (df[\"Clicked_Date\"] < pd.to_datetime(\"29.12.2016\", format=\"%d.%m.%Y\"))]\n",
    "\n",
    "df_rest = df[(df[\"Clicked_Date\"] <= pd.to_datetime(\"28.08.2016\", format=\"%d.%m.%Y\"))\n",
    "  | (df[\"Clicked_Date\"] >= pd.to_datetime(\"29.12.2016\", format=\"%d.%m.%Y\"))]\n",
    "\n",
    "df_canada[\"Clicked_Date\"] = df_canada[\"Clicked_Date\"] - td"
   ]
  },
  {
   "cell_type": "markdown",
   "metadata": {},
   "source": [
    "Putting it back together:"
   ]
  },
  {
   "cell_type": "code",
   "execution_count": 35,
   "metadata": {},
   "outputs": [],
   "source": [
    "df = df_rest.append(df_canada)"
   ]
  },
  {
   "cell_type": "markdown",
   "metadata": {},
   "source": [
    "Export"
   ]
  },
  {
   "cell_type": "code",
   "execution_count": 36,
   "metadata": {},
   "outputs": [],
   "source": [
    "df.to_csv(\"EXPORT/DIRECTORY/youtube_clicks.csv\", index = False)"
   ]
  },
  {
   "cell_type": "markdown",
   "metadata": {},
   "source": [
    "__________"
   ]
  },
  {
   "cell_type": "markdown",
   "metadata": {},
   "source": [
    "### 2. Youtube Search"
   ]
  },
  {
   "cell_type": "code",
   "execution_count": 37,
   "metadata": {},
   "outputs": [],
   "source": [
    "fullpath = 'PATH/TO/YOUR/GOOGLEDATA/Suchverlauf.html'\n",
    "soup = BeautifulSoup(open(fullpath), 'html.parser')"
   ]
  },
  {
   "cell_type": "code",
   "execution_count": 38,
   "metadata": {},
   "outputs": [],
   "source": [
    "search_containers = soup.find_all(\"div\", {\"class\": \"content-cell mdl-cell mdl-cell--6-col mdl-typography--body-1\"})"
   ]
  },
  {
   "cell_type": "code",
   "execution_count": 39,
   "metadata": {},
   "outputs": [
    {
     "data": {
      "text/plain": [
       "<div class=\"content-cell mdl-cell mdl-cell--6-col mdl-typography--body-1\">Nach <a href=\"https://www.youtube.com/results?search_query=hardtail+mtb+techniques\">hardtail mtb techniques</a> gesucht<br/>08.04.2020, 16:57:34 MESZ</div>"
      ]
     },
     "execution_count": 39,
     "metadata": {},
     "output_type": "execute_result"
    }
   ],
   "source": [
    "search_containers[0]"
   ]
  },
  {
   "cell_type": "code",
   "execution_count": 46,
   "metadata": {},
   "outputs": [],
   "source": [
    "# Lists to store the scraped data in\n",
    "info = []\n",
    "\n",
    "# Extract data from individual container\n",
    "for container in search_containers:\n",
    "    # The name\n",
    "    name = container.text\n",
    "    info.append(name)"
   ]
  },
  {
   "cell_type": "code",
   "execution_count": 47,
   "metadata": {},
   "outputs": [],
   "source": [
    "df = pd.DataFrame({'text': info})"
   ]
  },
  {
   "cell_type": "code",
   "execution_count": 48,
   "metadata": {},
   "outputs": [
    {
     "data": {
      "text/html": [
       "<div>\n",
       "<style scoped>\n",
       "    .dataframe tbody tr th:only-of-type {\n",
       "        vertical-align: middle;\n",
       "    }\n",
       "\n",
       "    .dataframe tbody tr th {\n",
       "        vertical-align: top;\n",
       "    }\n",
       "\n",
       "    .dataframe thead th {\n",
       "        text-align: right;\n",
       "    }\n",
       "</style>\n",
       "<table border=\"1\" class=\"dataframe\">\n",
       "  <thead>\n",
       "    <tr style=\"text-align: right;\">\n",
       "      <th></th>\n",
       "      <th>text</th>\n",
       "    </tr>\n",
       "  </thead>\n",
       "  <tbody>\n",
       "    <tr>\n",
       "      <td>0</td>\n",
       "      <td>Nach hardtail mtb techniques gesucht08.04.2020...</td>\n",
       "    </tr>\n",
       "    <tr>\n",
       "      <td>1</td>\n",
       "      <td>Nach mtb hardtail tour gesucht08.04.2020, 16:5...</td>\n",
       "    </tr>\n",
       "  </tbody>\n",
       "</table>\n",
       "</div>"
      ],
      "text/plain": [
       "                                                text\n",
       "0  Nach hardtail mtb techniques gesucht08.04.2020...\n",
       "1  Nach mtb hardtail tour gesucht08.04.2020, 16:5..."
      ]
     },
     "execution_count": 48,
     "metadata": {},
     "output_type": "execute_result"
    }
   ],
   "source": [
    "df.head(2)"
   ]
  },
  {
   "cell_type": "code",
   "execution_count": 49,
   "metadata": {},
   "outputs": [],
   "source": [
    "# Edits on Text column to extract SEARCH TERM and DATE\n",
    "df[\"Search\"] = df[\"text\"].str.split(\"gesucht\", n = 1, expand = True)[0].str[+5:]\n",
    "df[\"Date\"] = df[\"text\"].str.split(\"gesucht\", n = 1, expand = True)[1]\n",
    "\n",
    "df = df.drop(axis=1, columns={\"text\"})"
   ]
  },
  {
   "cell_type": "code",
   "execution_count": 50,
   "metadata": {},
   "outputs": [
    {
     "data": {
      "text/html": [
       "<div>\n",
       "<style scoped>\n",
       "    .dataframe tbody tr th:only-of-type {\n",
       "        vertical-align: middle;\n",
       "    }\n",
       "\n",
       "    .dataframe tbody tr th {\n",
       "        vertical-align: top;\n",
       "    }\n",
       "\n",
       "    .dataframe thead th {\n",
       "        text-align: right;\n",
       "    }\n",
       "</style>\n",
       "<table border=\"1\" class=\"dataframe\">\n",
       "  <thead>\n",
       "    <tr style=\"text-align: right;\">\n",
       "      <th></th>\n",
       "      <th>Search</th>\n",
       "      <th>Date</th>\n",
       "    </tr>\n",
       "  </thead>\n",
       "  <tbody>\n",
       "    <tr>\n",
       "      <td>0</td>\n",
       "      <td>hardtail mtb techniques</td>\n",
       "      <td>08.04.2020, 16:57:34 MESZ</td>\n",
       "    </tr>\n",
       "    <tr>\n",
       "      <td>1</td>\n",
       "      <td>mtb hardtail tour</td>\n",
       "      <td>08.04.2020, 16:57:15 MESZ</td>\n",
       "    </tr>\n",
       "  </tbody>\n",
       "</table>\n",
       "</div>"
      ],
      "text/plain": [
       "                     Search                       Date\n",
       "0  hardtail mtb techniques   08.04.2020, 16:57:34 MESZ\n",
       "1        mtb hardtail tour   08.04.2020, 16:57:15 MESZ"
      ]
     },
     "execution_count": 50,
     "metadata": {},
     "output_type": "execute_result"
    }
   ],
   "source": [
    "df.head(2)"
   ]
  },
  {
   "cell_type": "code",
   "execution_count": 51,
   "metadata": {},
   "outputs": [],
   "source": [
    "df[\"Search_Date\"] = pd.to_datetime(df[\"Date\"].str[:-5], format='%d.%m.%Y, %H:%M:%S', errors=\"coerce\")\n",
    "df = df.drop(axis=1, columns={\"Date\"})"
   ]
  },
  {
   "cell_type": "code",
   "execution_count": 52,
   "metadata": {},
   "outputs": [],
   "source": [
    "df_canada = df[(df.Search_Date > pd.to_datetime(\"28.08.2016\", format=\"%d.%m.%Y\"))\n",
    "  & (df.Search_Date < pd.to_datetime(\"29.12.2016\", format=\"%d.%m.%Y\"))]\n",
    "\n",
    "df_rest = df[(df.Search_Date <= pd.to_datetime(\"28.08.2016\", format=\"%d.%m.%Y\"))\n",
    "  | (df.Search_Date >= pd.to_datetime(\"29.12.2016\", format=\"%d.%m.%Y\"))]\n",
    "\n",
    "df_canada.Search_Date = df_canada.Search_Date - td\n"
   ]
  },
  {
   "cell_type": "code",
   "execution_count": 120,
   "metadata": {},
   "outputs": [],
   "source": [
    "df.to_csv(\"EXPORT/DIRECTORY/youtube_search.csv\", index = False)"
   ]
  },
  {
   "cell_type": "markdown",
   "metadata": {},
   "source": [
    "### 3. Searched before Click"
   ]
  },
  {
   "cell_type": "markdown",
   "metadata": {},
   "source": [
    "We can enrich our dataset by checking if I searched before watching a video or if it came up through autoplay or recommendations. We simply define a timedelta of 30 seconds and if I had done a youtube search within that delta before watching a video, that video is directly linked to that search term."
   ]
  },
  {
   "cell_type": "code",
   "execution_count": 57,
   "metadata": {},
   "outputs": [],
   "source": [
    "search = pd.read_csv(\"PATH/youtube_search.csv\")\n",
    "clicks = pd.read_csv(\"PATH/youtube_clicks.csv\")\n",
    "\n",
    "margin = datetime.timedelta(seconds = 30)"
   ]
  },
  {
   "cell_type": "code",
   "execution_count": 58,
   "metadata": {},
   "outputs": [],
   "source": [
    "def searched_for(x):\n",
    "    bol = False\n",
    "    \n",
    "    sd = search[\"Search_Date\"].unique()\n",
    "    search_dates = [pd.Timestamp(i) for i in sd]\n",
    "    search_dates.sort()\n",
    "    \n",
    "    \n",
    "    index = np.searchsorted(search_dates, pd.Timestamp(x))\n",
    "    \n",
    "    try:\n",
    "        if pd.Timestamp(search_dates[index-1]) >= (pd.Timestamp(str(x)) - margin):\n",
    "            bol = True\n",
    "            return bol\n",
    "        return bol\n",
    "    except:\n",
    "        return bol"
   ]
  },
  {
   "cell_type": "code",
   "execution_count": null,
   "metadata": {},
   "outputs": [],
   "source": [
    "clicks[\"watched_after_search\"] =  clicks[\"Clicked_Date\"].apply(lambda x: searched_for(x))"
   ]
  },
  {
   "cell_type": "code",
   "execution_count": null,
   "metadata": {},
   "outputs": [],
   "source": [
    "clicks[\"watched_after_search\"].value_counts()"
   ]
  },
  {
   "cell_type": "code",
   "execution_count": null,
   "metadata": {},
   "outputs": [],
   "source": [
    "clicks = clicks.dropna()"
   ]
  },
  {
   "cell_type": "markdown",
   "metadata": {},
   "source": [
    "Final Dataset:"
   ]
  },
  {
   "cell_type": "code",
   "execution_count": null,
   "metadata": {},
   "outputs": [],
   "source": [
    "clicks.head(5)"
   ]
  },
  {
   "cell_type": "markdown",
   "metadata": {},
   "source": [
    "Export"
   ]
  },
  {
   "cell_type": "code",
   "execution_count": 126,
   "metadata": {},
   "outputs": [],
   "source": [
    "clicks.to_csv(\"EXPORT/DIRECTORY/youtube_clicks.csv\", index = False)"
   ]
  }
 ],
 "metadata": {
  "kernelspec": {
   "display_name": "Python 3",
   "language": "python",
   "name": "python3"
  },
  "language_info": {
   "codemirror_mode": {
    "name": "ipython",
    "version": 3
   },
   "file_extension": ".py",
   "mimetype": "text/x-python",
   "name": "python",
   "nbconvert_exporter": "python",
   "pygments_lexer": "ipython3",
   "version": "3.7.4"
  }
 },
 "nbformat": 4,
 "nbformat_minor": 4
}
