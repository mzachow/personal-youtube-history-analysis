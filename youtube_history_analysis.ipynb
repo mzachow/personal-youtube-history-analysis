{
 "cells": [
  {
   "cell_type": "code",
   "execution_count": 17,
   "metadata": {},
   "outputs": [],
   "source": [
    "import pandas as pd\n",
    "import seaborn as sns\n",
    "import matplotlib.pyplot as plt\n",
    "import numpy as np\n",
    "pd.set_option('display.max_columns', None)\n",
    "\n",
    "import warnings\n",
    "warnings.filterwarnings('ignore')"
   ]
  },
  {
   "cell_type": "code",
   "execution_count": 18,
   "metadata": {},
   "outputs": [],
   "source": [
    "df = pd.read_csv(\"DIRECTORY/youtube_clicks_info.csv\")"
   ]
  },
  {
   "cell_type": "code",
   "execution_count": 19,
   "metadata": {},
   "outputs": [
    {
     "data": {
      "text/plain": [
       "<matplotlib.axes._subplots.AxesSubplot at 0x7f9472e31c90>"
      ]
     },
     "execution_count": 19,
     "metadata": {},
     "output_type": "execute_result"
    },
    {
     "data": {
      "image/png": "[encoded data removed]",
      "text/plain": [
       "<Figure size 1080x360 with 1 Axes>"
      ]
     },
     "metadata": {
      "needs_background": "light"
     },
     "output_type": "display_data"
    }
   ],
   "source": [
    "fig, ax = plt.subplots(figsize=[15,5])\n",
    "sns.countplot(ax=ax, x=\"Year\", data=df)"
   ]
  },
  {
   "cell_type": "markdown",
   "metadata": {},
   "source": [
    "I watched most videos in 2015"
   ]
  },
  {
   "cell_type": "markdown",
   "metadata": {},
   "source": [
    "I create another variable that categorizes how long a video has been online until I watched it"
   ]
  },
  {
   "cell_type": "code",
   "execution_count": 20,
   "metadata": {},
   "outputs": [],
   "source": [
    "def days_online_to_category(x):\n",
    "    if x < 30:\n",
    "        return \"few\"\n",
    "    if x < 150:\n",
    "        return \"some\"\n",
    "    return \"a lot\""
   ]
  },
  {
   "cell_type": "code",
   "execution_count": 21,
   "metadata": {},
   "outputs": [],
   "source": [
    "df[\"days_online_cat\"] = df[\"days_online_until_watched\"].apply(lambda x: days_online_to_category(x))"
   ]
  },
  {
   "cell_type": "code",
   "execution_count": 22,
   "metadata": {},
   "outputs": [],
   "source": [
    "df = df.drop(axis=1, columns=[\"favoriteCount\"])"
   ]
  },
  {
   "cell_type": "code",
   "execution_count": 23,
   "metadata": {},
   "outputs": [
    {
     "name": "stdout",
     "output_type": "stream",
     "text": [
      "commentCount 0\n",
      "dislikeCount 0\n",
      "likeCount 0\n",
      "viewCount 0\n"
     ]
    }
   ],
   "source": [
    "cols = [\"commentCount\", \"dislikeCount\", \"likeCount\", \"viewCount\"]\n",
    "for col in cols:\n",
    "    df = df[df[col] != \"no data\"]\n",
    "    print(str(col) + \" \" + str(df[df[col] == \"no data\"].shape[0]))"
   ]
  },
  {
   "cell_type": "code",
   "execution_count": 24,
   "metadata": {},
   "outputs": [],
   "source": [
    "df[\"likes_to_dislikes\"] = df[\"likeCount\"].astype(int) / df[\"dislikeCount\"].astype(int)\n",
    "df = df[df.likes_to_dislikes < np.inf]"
   ]
  },
  {
   "cell_type": "code",
   "execution_count": 25,
   "metadata": {},
   "outputs": [
    {
     "data": {
      "text/html": [
       "<div>\n",
       "<style scoped>\n",
       "    .dataframe tbody tr th:only-of-type {\n",
       "        vertical-align: middle;\n",
       "    }\n",
       "\n",
       "    .dataframe tbody tr th {\n",
       "        vertical-align: top;\n",
       "    }\n",
       "\n",
       "    .dataframe thead th {\n",
       "        text-align: right;\n",
       "    }\n",
       "</style>\n",
       "<table border=\"1\" class=\"dataframe\">\n",
       "  <thead>\n",
       "    <tr style=\"text-align: right;\">\n",
       "      <th></th>\n",
       "      <th>Video_Title</th>\n",
       "      <th>Video_URL</th>\n",
       "      <th>Video_Channel</th>\n",
       "      <th>Clicked_Date</th>\n",
       "      <th>Video_ID</th>\n",
       "      <th>Year</th>\n",
       "      <th>Month</th>\n",
       "      <th>Day of Week</th>\n",
       "      <th>viewCount</th>\n",
       "      <th>likeCount</th>\n",
       "      <th>dislikeCount</th>\n",
       "      <th>commentCount</th>\n",
       "      <th>caption</th>\n",
       "      <th>description</th>\n",
       "      <th>tags</th>\n",
       "      <th>category</th>\n",
       "      <th>category_name</th>\n",
       "      <th>duration</th>\n",
       "      <th>duration in seconds</th>\n",
       "      <th>defaultAudioLanguage</th>\n",
       "      <th>definition</th>\n",
       "      <th>dimension</th>\n",
       "      <th>licensedContent</th>\n",
       "      <th>projection</th>\n",
       "      <th>publishedAt</th>\n",
       "      <th>time_online_until_watched</th>\n",
       "      <th>days_online_until_watched</th>\n",
       "      <th>watched_after_search</th>\n",
       "      <th>days_online_cat</th>\n",
       "      <th>likes_to_dislikes</th>\n",
       "    </tr>\n",
       "  </thead>\n",
       "  <tbody>\n",
       "    <tr>\n",
       "      <td>0</td>\n",
       "      <td>Improve Your Manual Skills | MTB Coaching With...</td>\n",
       "      <td>https://www.youtube.com/watch?v=Kzdc_mbHJQQ</td>\n",
       "      <td>Global Mountain Bike Network</td>\n",
       "      <td>2020-04-08 17:45:36</td>\n",
       "      <td>Kzdc_mbHJQQ</td>\n",
       "      <td>2020.0</td>\n",
       "      <td>4.0</td>\n",
       "      <td>Wednesday</td>\n",
       "      <td>636942</td>\n",
       "      <td>11212</td>\n",
       "      <td>156</td>\n",
       "      <td>708</td>\n",
       "      <td>True</td>\n",
       "      <td>Manualing a mountain bike is an awesome skill ...</td>\n",
       "      <td>['GMBN', 'Global Mountain Bike Network', 'moun...</td>\n",
       "      <td>17.0</td>\n",
       "      <td>Sports</td>\n",
       "      <td>0 days 00:13:37.000000000</td>\n",
       "      <td>817.0</td>\n",
       "      <td>en</td>\n",
       "      <td>hd</td>\n",
       "      <td>2d</td>\n",
       "      <td>True</td>\n",
       "      <td>rectangular</td>\n",
       "      <td>2019-01-16T10:00:02.000Z</td>\n",
       "      <td>448 days 07:45:34.000000000</td>\n",
       "      <td>448</td>\n",
       "      <td>False</td>\n",
       "      <td>a lot</td>\n",
       "      <td>71.871795</td>\n",
       "    </tr>\n",
       "  </tbody>\n",
       "</table>\n",
       "</div>"
      ],
      "text/plain": [
       "                                         Video_Title  \\\n",
       "0  Improve Your Manual Skills | MTB Coaching With...   \n",
       "\n",
       "                                     Video_URL                 Video_Channel  \\\n",
       "0  https://www.youtube.com/watch?v=Kzdc_mbHJQQ  Global Mountain Bike Network   \n",
       "\n",
       "          Clicked_Date     Video_ID    Year  Month Day of Week viewCount  \\\n",
       "0  2020-04-08 17:45:36  Kzdc_mbHJQQ  2020.0    4.0   Wednesday    636942   \n",
       "\n",
       "  likeCount dislikeCount commentCount  caption  \\\n",
       "0     11212          156          708     True   \n",
       "\n",
       "                                         description  \\\n",
       "0  Manualing a mountain bike is an awesome skill ...   \n",
       "\n",
       "                                                tags  category category_name  \\\n",
       "0  ['GMBN', 'Global Mountain Bike Network', 'moun...      17.0        Sports   \n",
       "\n",
       "                    duration  duration in seconds defaultAudioLanguage  \\\n",
       "0  0 days 00:13:37.000000000                817.0                   en   \n",
       "\n",
       "  definition dimension  licensedContent   projection  \\\n",
       "0         hd        2d             True  rectangular   \n",
       "\n",
       "                publishedAt    time_online_until_watched  \\\n",
       "0  2019-01-16T10:00:02.000Z  448 days 07:45:34.000000000   \n",
       "\n",
       "   days_online_until_watched  watched_after_search days_online_cat  \\\n",
       "0                        448                 False           a lot   \n",
       "\n",
       "   likes_to_dislikes  \n",
       "0          71.871795  "
      ]
     },
     "execution_count": 25,
     "metadata": {},
     "output_type": "execute_result"
    }
   ],
   "source": [
    "df.head(1)"
   ]
  },
  {
   "cell_type": "markdown",
   "metadata": {},
   "source": [
    "### 1. Insight: Now, I watch more often older videos"
   ]
  },
  {
   "cell_type": "markdown",
   "metadata": {},
   "source": [
    "2020 only holds data until April so it is not representative yet. But if we compare the years 2016-2019 with 2011-2015 we see a clear difference"
   ]
  },
  {
   "cell_type": "code",
   "execution_count": 44,
   "metadata": {},
   "outputs": [],
   "source": [
    "df_few_days = df[df[\"days_online_until_watched\"] < 365]"
   ]
  },
  {
   "cell_type": "code",
   "execution_count": 45,
   "metadata": {},
   "outputs": [],
   "source": [
    "df_few_days[\"days_online_cat\"] = df_few_days[\"days_online_until_watched\"].apply(lambda x: days_online_to_category(x))\n",
    "df_few_days = df_few_days[df_few_days.days_online_until_watched >= 0]"
   ]
  },
  {
   "cell_type": "code",
   "execution_count": 46,
   "metadata": {},
   "outputs": [
    {
     "data": {
      "text/plain": [
       "<seaborn.axisgrid.FacetGrid at 0x7f9476413950>"
      ]
     },
     "execution_count": 46,
     "metadata": {},
     "output_type": "execute_result"
    },
    {
     "data": {
      "image/png": "[encoded data removed]",
      "text/plain": [
       "<Figure size 864x288 with 1 Axes>"
      ]
     },
     "metadata": {
      "needs_background": "light"
     },
     "output_type": "display_data"
    }
   ],
   "source": [
    "x,y = 'Year', 'days_online_cat'\n",
    "\n",
    "df1 = df_few_days.groupby(x)[y].value_counts(normalize=True)\n",
    "df1 = df1.mul(100)\n",
    "df1 = df1.rename('percent').reset_index()\n",
    "\n",
    "sns.catplot(x=x,y='percent',hue=y,kind='bar',data=df1,  legend_out=False, height=4, aspect =3)"
   ]
  },
  {
   "cell_type": "markdown",
   "metadata": {},
   "source": [
    "### 2. Insight: My taste got better"
   ]
  },
  {
   "cell_type": "markdown",
   "metadata": {},
   "source": [
    "By looking at the median of likes to dislikes ratio of the videos I watched, we see that either my taste got better or that the youtube algorithm works great in terms of showing me good content"
   ]
  },
  {
   "cell_type": "code",
   "execution_count": 47,
   "metadata": {},
   "outputs": [
    {
     "data": {
      "text/plain": [
       "<seaborn.axisgrid.FacetGrid at 0x7f9476b04450>"
      ]
     },
     "execution_count": 47,
     "metadata": {},
     "output_type": "execute_result"
    },
    {
     "data": {
      "image/png": "[encoded data removed]",
      "text/plain": [
       "<Figure size 720x360 with 1 Axes>"
      ]
     },
     "metadata": {
      "needs_background": "light"
     },
     "output_type": "display_data"
    }
   ],
   "source": [
    "df2 = df.groupby('Year', as_index=False)[\"likes_to_dislikes\"].median()\n",
    "sns.catplot(x=\"Year\", y='likes_to_dislikes',kind='bar',data=df2, legend_out=False, aspect=2)"
   ]
  },
  {
   "cell_type": "code",
   "execution_count": 48,
   "metadata": {},
   "outputs": [],
   "source": [
    "df.likes_to_dislikes = df.likes_to_dislikes.astype(float)\n",
    "df.viewCount = df.viewCount.astype(int)"
   ]
  },
  {
   "cell_type": "code",
   "execution_count": 49,
   "metadata": {},
   "outputs": [
    {
     "data": {
      "text/plain": [
       "Index(['Video_Title', 'Video_URL', 'Video_Channel', 'Clicked_Date', 'Video_ID',\n",
       "       'Year', 'Month', 'Day of Week', 'viewCount', 'likeCount',\n",
       "       'dislikeCount', 'commentCount', 'caption', 'description', 'tags',\n",
       "       'category', 'category_name', 'duration', 'duration in seconds',\n",
       "       'defaultAudioLanguage', 'definition', 'dimension', 'licensedContent',\n",
       "       'projection', 'publishedAt', 'time_online_until_watched',\n",
       "       'days_online_until_watched', 'watched_after_search', 'days_online_cat',\n",
       "       'likes_to_dislikes'],\n",
       "      dtype='object')"
      ]
     },
     "execution_count": 49,
     "metadata": {},
     "output_type": "execute_result"
    }
   ],
   "source": [
    "df.columns"
   ]
  },
  {
   "cell_type": "markdown",
   "metadata": {},
   "source": [
    "### 3. Insight: More controversial videos from 2015-2017"
   ]
  },
  {
   "cell_type": "markdown",
   "metadata": {},
   "source": [
    "The videos I watched in 2017 where the most commented ones"
   ]
  },
  {
   "cell_type": "code",
   "execution_count": 51,
   "metadata": {},
   "outputs": [
    {
     "data": {
      "text/plain": [
       "<seaborn.axisgrid.FacetGrid at 0x7f9476369550>"
      ]
     },
     "execution_count": 51,
     "metadata": {},
     "output_type": "execute_result"
    },
    {
     "data": {
      "image/png": "[encoded data removed]",
      "text/plain": [
       "<Figure size 720x360 with 1 Axes>"
      ]
     },
     "metadata": {
      "needs_background": "light"
     },
     "output_type": "display_data"
    }
   ],
   "source": [
    "df.commentCount = df.commentCount.astype(int)\n",
    "df3 = df.groupby('Year', as_index=False)[[\"commentCount\"]].median()\n",
    "sns.catplot(x=\"Year\", y='commentCount',kind='bar',data=df3, legend_out=False, aspect=2)"
   ]
  },
  {
   "cell_type": "markdown",
   "metadata": {},
   "source": [
    "### 4. Long DJ Sets & Study Music peak in 2019 and 2020"
   ]
  },
  {
   "cell_type": "code",
   "execution_count": 53,
   "metadata": {},
   "outputs": [
    {
     "data": {
      "text/plain": [
       "<seaborn.axisgrid.FacetGrid at 0x7f94762413d0>"
      ]
     },
     "execution_count": 53,
     "metadata": {},
     "output_type": "execute_result"
    },
    {
     "data": {
      "image/png": "[encoded data removed]",
      "text/plain": [
       "<Figure size 720x360 with 1 Axes>"
      ]
     },
     "metadata": {
      "needs_background": "light"
     },
     "output_type": "display_data"
    }
   ],
   "source": [
    "df4 = df.groupby('Year', as_index=False)[[\"duration in seconds\"]].median()\n",
    "sns.catplot(x=\"Year\", y=\"duration in seconds\",kind='bar',data=df4, legend_out=False, aspect=2)"
   ]
  },
  {
   "cell_type": "markdown",
   "metadata": {},
   "source": [
    "### Watched after Search doesn't show any interesting insight"
   ]
  },
  {
   "cell_type": "code",
   "execution_count": 54,
   "metadata": {},
   "outputs": [
    {
     "data": {
      "text/plain": [
       "<seaborn.axisgrid.FacetGrid at 0x7f947654b810>"
      ]
     },
     "execution_count": 54,
     "metadata": {},
     "output_type": "execute_result"
    },
    {
     "data": {
      "image/png": "[encoded data removed]",
      "text/plain": [
       "<Figure size 864x288 with 1 Axes>"
      ]
     },
     "metadata": {
      "needs_background": "light"
     },
     "output_type": "display_data"
    }
   ],
   "source": [
    "x,y = 'Year', 'watched_after_search'\n",
    "\n",
    "df5 = df[df[\"category_name\"] == \"Music\"].groupby(x)[y].value_counts(normalize=True)\n",
    "df5 = df5.mul(100)\n",
    "df5 = df5.rename('percent').reset_index()\n",
    "\n",
    "sns.catplot(x=x,y='percent',hue=y,kind='bar',data=df5,  legend_out=False, height=4, aspect =3)"
   ]
  },
  {
   "cell_type": "code",
   "execution_count": 55,
   "metadata": {},
   "outputs": [
    {
     "data": {
      "text/plain": [
       "<seaborn.axisgrid.FacetGrid at 0x7f9477270310>"
      ]
     },
     "execution_count": 55,
     "metadata": {},
     "output_type": "execute_result"
    },
    {
     "data": {
      "image/png": "[encoded data removed]",
      "text/plain": [
       "<Figure size 864x288 with 1 Axes>"
      ]
     },
     "metadata": {
      "needs_background": "light"
     },
     "output_type": "display_data"
    }
   ],
   "source": [
    "x,y = 'Year', 'watched_after_search'\n",
    "\n",
    "df5 = df[df[\"category_name\"] == \"Sports\"].groupby(x)[y].value_counts(normalize=True)\n",
    "df5 = df5.mul(100)\n",
    "df5 = df5.rename('percent').reset_index()\n",
    "\n",
    "sns.catplot(x=x,y='percent',hue=y,kind='bar',data=df5,  legend_out=False, height=4, aspect =3)"
   ]
  },
  {
   "cell_type": "markdown",
   "metadata": {},
   "source": [
    "### 5. My most watched categories changed over the years"
   ]
  },
  {
   "cell_type": "code",
   "execution_count": 63,
   "metadata": {},
   "outputs": [],
   "source": [
    "df_thenandnow = df[df.Year.isin([2011, 2012, 2013, 2019, 2020])]"
   ]
  },
  {
   "cell_type": "code",
   "execution_count": 64,
   "metadata": {},
   "outputs": [
    {
     "data": {
      "text/plain": [
       "2019.0    1250\n",
       "2011.0     596\n",
       "2013.0     543\n",
       "2012.0     494\n",
       "2020.0     383\n",
       "Name: Year, dtype: int64"
      ]
     },
     "execution_count": 64,
     "metadata": {},
     "output_type": "execute_result"
    }
   ],
   "source": [
    "df_thenandnow.Year.value_counts()"
   ]
  },
  {
   "cell_type": "code",
   "execution_count": 65,
   "metadata": {},
   "outputs": [
    {
     "data": {
      "text/plain": [
       "Music                    930\n",
       "Entertainment            802\n",
       "Sports                   434\n",
       "People & Blogs           251\n",
       "Education                160\n",
       "Comedy                   123\n",
       "Science & Technology     122\n",
       "Gaming                    98\n",
       "Howto & Style             93\n",
       "Film & Animation          91\n",
       "News & Politics           69\n",
       "Travel & Events           37\n",
       "Nonprofits & Activism     20\n",
       "Autos & Vehicles          19\n",
       "Pets & Animals            17\n",
       "Name: category_name, dtype: int64"
      ]
     },
     "execution_count": 65,
     "metadata": {},
     "output_type": "execute_result"
    }
   ],
   "source": [
    "df_thenandnow.category_name.value_counts()"
   ]
  },
  {
   "cell_type": "code",
   "execution_count": 66,
   "metadata": {},
   "outputs": [],
   "source": [
    "def past_or_present(x):\n",
    "    if x in [2011, 2012, 2013]:\n",
    "        return \"Then\"\n",
    "    else:\n",
    "        return \"Now\""
   ]
  },
  {
   "cell_type": "code",
   "execution_count": 67,
   "metadata": {},
   "outputs": [],
   "source": [
    "df_thenandnow[\"Stage_in_Life\"] = df_thenandnow.Year.apply(lambda x: past_or_present(x))"
   ]
  },
  {
   "cell_type": "code",
   "execution_count": 68,
   "metadata": {},
   "outputs": [
    {
     "data": {
      "text/plain": [
       "Then    1633\n",
       "Now     1633\n",
       "Name: Stage_in_Life, dtype: int64"
      ]
     },
     "execution_count": 68,
     "metadata": {},
     "output_type": "execute_result"
    }
   ],
   "source": [
    "df_thenandnow.Stage_in_Life.value_counts()"
   ]
  },
  {
   "cell_type": "code",
   "execution_count": 69,
   "metadata": {},
   "outputs": [
    {
     "data": {
      "text/plain": [
       "<seaborn.axisgrid.FacetGrid at 0x7f94770096d0>"
      ]
     },
     "execution_count": 69,
     "metadata": {},
     "output_type": "execute_result"
    },
    {
     "data": {
      "image/png": "[encoded data removed]",
      "text/plain": [
       "<Figure size 1010.36x288 with 1 Axes>"
      ]
     },
     "metadata": {
      "needs_background": "light"
     },
     "output_type": "display_data"
    }
   ],
   "source": [
    "x,y = 'Stage_in_Life', 'category_name'\n",
    "\n",
    "df6 = df_thenandnow.groupby(x)[y].value_counts(normalize=True)\n",
    "df6 = df6.mul(100)\n",
    "df6 = df6.rename('percent').reset_index()\n",
    "\n",
    "sns.catplot(x=x,y='percent',hue=y,kind='bar',data=df6,  legend_out=True, height=4, aspect =3)"
   ]
  },
  {
   "cell_type": "code",
   "execution_count": 70,
   "metadata": {},
   "outputs": [],
   "source": [
    "df[\"viewCount\"] = df.viewCount.astype(int)"
   ]
  },
  {
   "cell_type": "code",
   "execution_count": 71,
   "metadata": {},
   "outputs": [
    {
     "data": {
      "text/plain": [
       "<seaborn.axisgrid.FacetGrid at 0x7f9477cbc310>"
      ]
     },
     "execution_count": 71,
     "metadata": {},
     "output_type": "execute_result"
    },
    {
     "data": {
      "image/png": "[encoded data removed]",
      "text/plain": [
       "<Figure size 720x360 with 1 Axes>"
      ]
     },
     "metadata": {
      "needs_background": "light"
     },
     "output_type": "display_data"
    }
   ],
   "source": [
    "df7 = df.groupby('Year', as_index=False).agg({\"viewCount\": \"median\"})\n",
    "sns.catplot(x=\"Year\", y=\"viewCount\",kind='bar',data=df7, legend_out=False, aspect=2)"
   ]
  }
 ],
 "metadata": {
  "kernelspec": {
   "display_name": "Python 3",
   "language": "python",
   "name": "python3"
  },
  "language_info": {
   "codemirror_mode": {
    "name": "ipython",
    "version": 3
   },
   "file_extension": ".py",
   "mimetype": "text/x-python",
   "name": "python",
   "nbconvert_exporter": "python",
   "pygments_lexer": "ipython3",
   "version": "3.7.4"
  }
 },
 "nbformat": 4,
 "nbformat_minor": 4
}
